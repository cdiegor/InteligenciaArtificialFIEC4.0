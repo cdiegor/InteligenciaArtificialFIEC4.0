{
 "cells": [
  {
   "cell_type": "markdown",
   "metadata": {
    "id": "JglT_iyCn2x9"
   },
   "source": [
    "# Reconhecimento de placas em vídeo"
   ]
  },
  {
   "cell_type": "markdown",
   "metadata": {
    "id": "56O8U3gdnw2N"
   },
   "source": [
    "## Importando as bibliotecas"
   ]
  },
  {
   "cell_type": "code",
   "execution_count": 8,
   "metadata": {
    "id": "jj073kk55MUf"
   },
   "outputs": [],
   "source": [
    "import cv2"
   ]
  },
  {
   "cell_type": "markdown",
   "metadata": {
    "id": "Uyt7YgqDn9rk"
   },
   "source": [
    "## Lendo o vídeo de entrada"
   ]
  },
  {
   "cell_type": "code",
   "execution_count": 9,
   "metadata": {
    "id": "vxyJ2Uxsnhyh"
   },
   "outputs": [],
   "source": [
    "#############################################\n",
    "frameWidth = 640\n",
    "frameHeight = 480\n",
    "nPlateCascade = cv2.CascadeClassifier(\"haarcascade_russian_plate_number.xml\")\n",
    "minArea = 200\n",
    "color = (255,0,255)\n",
    "###############################################\n",
    "cap = cv2.VideoCapture(\"video12.mp4\")\n",
    "cap.set(3, frameWidth)\n",
    "cap.set(4, frameHeight)\n",
    "cap.set(10,150)\n",
    "count = 0"
   ]
  },
  {
   "cell_type": "markdown",
   "metadata": {
    "id": "i3VJuz7eoBPq"
   },
   "source": [
    "## Reconhecimento sistemático frame a frame"
   ]
  },
  {
   "cell_type": "code",
   "execution_count": null,
   "metadata": {
    "colab": {
     "base_uri": "https://localhost:8080/",
     "height": 1000
    },
    "id": "_Inxqo0-nsbE",
    "outputId": "68602ace-2a7e-450e-e053-5c8658ca2ed9"
   },
   "outputs": [],
   "source": [
    "while True:\n",
    "    success, img = cap.read()\n",
    "    imgGray = cv2.cvtColor(img, cv2.COLOR_BGR2GRAY)\n",
    "    numberPlates = nPlateCascade.detectMultiScale(imgGray, 1.1, 10)\n",
    "    for (x, y, w, h) in numberPlates:\n",
    "        area = w*h\n",
    "        if area >minArea:\n",
    "            cv2.rectangle(img, (x, y), (x + w, y + h), (255, 0, 255), 2)\n",
    "            cv2.putText(img,\"Number Plate\",(x,y-5),\n",
    "                        cv2.FONT_HERSHEY_COMPLEX_SMALL,1,color,2)\n",
    "            imgRoi = img[y:y+h,x:x+w]\n",
    "            cv2.imshow(\"Result\", imgRoi)\n",
    " \n",
    "    cv2.imshow(\"Result\", cv2.rotate(img, cv2.ROTATE_90_CLOCKWISE))\n",
    " \n",
    "    if cv2.waitKey(1) & 0xFF == ord('s'):\n",
    "        cv2.imwrite(\"NoPlate_\"+str(count)+\".jpg\",imgRoi)\n",
    "        cv2.rectangle(img,(0,200),(640,300),(0,255,0),cv2.FILLED)\n",
    "        cv2.putText(img,\"Scan Saved\",(150,265),cv2.FONT_HERSHEY_DUPLEX,\n",
    "                    2,(0,0,255),2)\n",
    "        cv2.imshow(\"Result\", img)\n",
    "        cv2.waitKey(500)\n",
    "        count +=1"
   ]
  },
  {
   "cell_type": "code",
   "execution_count": null,
   "metadata": {},
   "outputs": [],
   "source": []
  }
 ],
 "metadata": {
  "colab": {
   "collapsed_sections": [],
   "name": "ReconhecimentoPlaca.ipynb",
   "provenance": []
  },
  "kernelspec": {
   "display_name": "Python 3",
   "language": "python",
   "name": "python3"
  },
  "language_info": {
   "codemirror_mode": {
    "name": "ipython",
    "version": 3
   },
   "file_extension": ".py",
   "mimetype": "text/x-python",
   "name": "python",
   "nbconvert_exporter": "python",
   "pygments_lexer": "ipython3",
   "version": "3.8.8"
  }
 },
 "nbformat": 4,
 "nbformat_minor": 1
}
